{
 "cells": [
  {
   "cell_type": "markdown",
   "id": "f2ba22d9",
   "metadata": {},
   "source": [
    "# Assignment1 MLP Report\n",
    "周澳蕾 11811337\n",
    "### Generate dataset\n",
    "+ Define default constant the problem asked\n",
    "+ Generate using make_moon method provided by sklearn"
   ]
  },
  {
   "cell_type": "code",
   "execution_count": 1,
   "id": "3f325951",
   "metadata": {},
   "outputs": [
    {
     "data": {
      "image/png": "[encoded data removed]",
      "text/plain": [
       "<Figure size 432x288 with 1 Axes>"
      ]
     },
     "metadata": {
      "needs_background": "light"
     },
     "output_type": "display_data"
    }
   ],
   "source": [
    "from __future__ import absolute_import\n",
    "from __future__ import division\n",
    "from __future__ import print_function\n",
    "\n",
    "import argparse\n",
    "import numpy as np\n",
    "from mlp_numpy import MLP\n",
    "from modules import CrossEntropy\n",
    "from train_mlp_numpy import *\n",
    "from sklearn import datasets\n",
    "import matplotlib.pyplot as plt\n",
    "\n",
    "# Default constants\n",
    "DNN_HIDDEN_UNITS_DEFAULT = '20'\n",
    "LEARNING_RATE_DEFAULT = 1e-2\n",
    "MAX_EPOCHS_DEFAULT = 1500\n",
    "EVAL_FREQ_DEFAULT = 10\n",
    "GRAD_TYPE_DEFAULT = 'BATCH'\n",
    "\n",
    "FLAGS = None\n",
    "\n",
    "x, t = datasets.make_moons(n_samples=2000, shuffle=True, noise=None, random_state=None)\n",
    "plt.scatter(x[:,0], x[:,1])\n",
    "plt.show()\n",
    "\n",
    "t = np.array([[t[i], 1-t[i]] for i in range(len(t))])\n",
    "train_x = x[:1400]\n",
    "train_t = t[:1400]\n",
    "test_x = x[1400:]\n",
    "test_t = t[1400:]"
   ]
  },
  {
   "cell_type": "markdown",
   "id": "9067582a",
   "metadata": {},
   "source": [
    "### Train the data & Record accuracy and loss - Batch gradient descent\n",
    "+ Train the data with MLP(batch gradient descent) with default parameters\n",
    "+ We find that MLP quickly coverages. The accuracy increases to more than 90 percent and loss decrease lower to 1."
   ]
  },
  {
   "cell_type": "code",
   "execution_count": 2,
   "id": "e8fbe66e",
   "metadata": {},
   "outputs": [
    {
     "name": "stdout",
     "output_type": "stream",
     "text": [
      "epoch: 0/1500\n",
      "train: accu: 0.684, loss: 3.603\n",
      "test: accu: 0.708, loss: 3.319\n",
      "epoch: 100/1500\n",
      "train: accu: 0.751, loss: 2.192\n",
      "test: accu: 0.763, loss: 1.855\n",
      "epoch: 200/1500\n",
      "train: accu: 0.915, loss: 0.274\n",
      "test: accu: 0.935, loss: 0.198\n",
      "epoch: 300/1500\n",
      "train: accu: 0.992, loss: 0.031\n",
      "test: accu: 0.993, loss: 0.024\n",
      "epoch: 400/1500\n",
      "train: accu: 0.999, loss: 0.012\n",
      "test: accu: 0.998, loss: 0.012\n",
      "epoch: 500/1500\n",
      "train: accu: 1.000, loss: 0.007\n",
      "test: accu: 1.000, loss: 0.008\n",
      "epoch: 600/1500\n",
      "train: accu: 1.000, loss: 0.005\n",
      "test: accu: 1.000, loss: 0.006\n",
      "epoch: 700/1500\n",
      "train: accu: 1.000, loss: 0.004\n",
      "test: accu: 1.000, loss: 0.005\n",
      "epoch: 800/1500\n",
      "train: accu: 1.000, loss: 0.004\n",
      "test: accu: 1.000, loss: 0.004\n",
      "epoch: 900/1500\n",
      "train: accu: 1.000, loss: 0.003\n",
      "test: accu: 1.000, loss: 0.004\n",
      "epoch: 1000/1500\n",
      "train: accu: 1.000, loss: 0.003\n",
      "test: accu: 1.000, loss: 0.003\n",
      "epoch: 1100/1500\n",
      "train: accu: 1.000, loss: 0.002\n",
      "test: accu: 1.000, loss: 0.003\n",
      "epoch: 1200/1500\n",
      "train: accu: 1.000, loss: 0.002\n",
      "test: accu: 1.000, loss: 0.003\n",
      "epoch: 1300/1500\n",
      "train: accu: 1.000, loss: 0.002\n",
      "test: accu: 1.000, loss: 0.002\n",
      "epoch: 1400/1500\n",
      "train: accu: 1.000, loss: 0.002\n",
      "test: accu: 1.000, loss: 0.002\n"
     ]
    }
   ],
   "source": [
    "parser = argparse.ArgumentParser()\n",
    "parser.add_argument('--dnn_hidden_units', type=str, default=DNN_HIDDEN_UNITS_DEFAULT,\n",
    "                        help='Comma separated list of number of units in each hidden layer')\n",
    "parser.add_argument('--learning_rate', type=float, default=LEARNING_RATE_DEFAULT,\n",
    "                        help='Learning rate')\n",
    "parser.add_argument('--max_steps', type=int, default=MAX_EPOCHS_DEFAULT,\n",
    "                        help='Number of epochs to run trainer.')\n",
    "parser.add_argument('--eval_freq', type=int, default=EVAL_FREQ_DEFAULT,\n",
    "                        help='Frequency of evaluation on the test set')\n",
    "parser.add_argument('--grad_type', type=str, default=GRAD_TYPE_DEFAULT,\n",
    "                        help='Choose whether to use batch gradient descent or stochastic gradient descent')\n",
    "FLAGS, unparsed = parser.parse_known_args()\n",
    "\n",
    "n_input = 2\n",
    "n_hidden = list(map(int, FLAGS.dnn_hidden_units.split()))\n",
    "n_classes = 2\n",
    "mlp = MLP(n_input, n_hidden, n_classes, FLAGS.learning_rate)\n",
    "x_axis, accu_train, accu_test, loss_train, loss_test = train(mlp, FLAGS)"
   ]
  },
  {
   "cell_type": "markdown",
   "id": "a2e29851",
   "metadata": {},
   "source": [
    "+ We plot the training accuracy and testing accuracy with epoch as the x-axis. We find that both the training accuracy and testing accuracy gradually approach 1.\n",
    "+ We plot the training loss and testing loss with epoch as the x-axis. We find that both the training loss and testing loss gradually approach 0."
   ]
  },
  {
   "cell_type": "code",
   "execution_count": 3,
   "id": "2c932a53",
   "metadata": {},
   "outputs": [
    {
     "data": {
      "image/png": "[encoded data removed]",
      "text/plain": [
       "<Figure size 432x288 with 2 Axes>"
      ]
     },
     "metadata": {
      "needs_background": "light"
     },
     "output_type": "display_data"
    }
   ],
   "source": [
    "fig_accu = plt.subplot(2, 1, 1)\n",
    "\n",
    "plt.ylim(0, 1.1)\n",
    "fig_loss = plt.subplot(2, 1, 2)\n",
    "fig_accu.plot(x_axis, accu_train, c='red', label='training accuracy')\n",
    "fig_accu.plot(x_axis, accu_test, c='blue', label='test accuracy')\n",
    "fig_accu.legend()\n",
    "fig_loss.plot(x_axis, loss_train, c='green', label='train loss')\n",
    "fig_loss.plot(x_axis, loss_test, c='yellow', label='test loss')\n",
    "fig_loss.legend()\n",
    "plt.xlabel('epoch')\n",
    "plt.show()"
   ]
  },
  {
   "cell_type": "markdown",
   "id": "2edd2900",
   "metadata": {},
   "source": [
    "### Train the data & Record accuracy and loss - Stochastic gradient descent\n",
    "We repeat the training process of MLP with the same dataset while using stochastic gradient descent, which means we update our weights in Linear layers of MLP every time we forward a new data point, rather than update weights after all data in the dataset is calculated. \n",
    "The graph of training and testing accuracy and loss is also shown below."
   ]
  },
  {
   "cell_type": "code",
   "execution_count": 6,
   "id": "2ad73bce",
   "metadata": {},
   "outputs": [
    {
     "name": "stdout",
     "output_type": "stream",
     "text": [
      "epoch: 0/1500\n",
      "train: accu: 1.000, loss: -0.000\n",
      "test: accu: 1.000, loss: -0.000\n",
      "epoch: 100/1500\n",
      "train: accu: 1.000, loss: -0.000\n",
      "test: accu: 1.000, loss: -0.000\n",
      "epoch: 200/1500\n",
      "train: accu: 1.000, loss: -0.000\n",
      "test: accu: 1.000, loss: -0.000\n",
      "epoch: 300/1500\n",
      "train: accu: 1.000, loss: -0.000\n",
      "test: accu: 1.000, loss: -0.000\n",
      "epoch: 400/1500\n",
      "train: accu: 1.000, loss: -0.000\n",
      "test: accu: 1.000, loss: -0.000\n",
      "epoch: 500/1500\n",
      "train: accu: 1.000, loss: -0.000\n",
      "test: accu: 1.000, loss: -0.000\n",
      "epoch: 600/1500\n",
      "train: accu: 1.000, loss: -0.000\n",
      "test: accu: 1.000, loss: -0.000\n",
      "epoch: 700/1500\n",
      "train: accu: 1.000, loss: -0.000\n",
      "test: accu: 1.000, loss: -0.000\n",
      "epoch: 800/1500\n",
      "train: accu: 1.000, loss: -0.000\n",
      "test: accu: 1.000, loss: -0.000\n",
      "epoch: 900/1500\n",
      "train: accu: 1.000, loss: -0.000\n",
      "test: accu: 1.000, loss: -0.000\n",
      "epoch: 1000/1500\n",
      "train: accu: 1.000, loss: -0.000\n",
      "test: accu: 1.000, loss: -0.000\n",
      "epoch: 1100/1500\n",
      "train: accu: 1.000, loss: -0.000\n",
      "test: accu: 1.000, loss: -0.000\n",
      "epoch: 1200/1500\n",
      "train: accu: 1.000, loss: -0.000\n",
      "test: accu: 1.000, loss: -0.000\n",
      "epoch: 1300/1500\n",
      "train: accu: 1.000, loss: -0.000\n",
      "test: accu: 1.000, loss: -0.000\n",
      "epoch: 1400/1500\n",
      "train: accu: 1.000, loss: -0.000\n",
      "test: accu: 1.000, loss: -0.000\n"
     ]
    },
    {
     "data": {
      "image/png": "[encoded data removed]",
      "text/plain": [
       "<Figure size 432x288 with 2 Axes>"
      ]
     },
     "metadata": {
      "needs_background": "light"
     },
     "output_type": "display_data"
    }
   ],
   "source": [
    "FLAGS.grad_type = 'STOCHASTIC'\n",
    "x_axis, accu_train, accu_test, loss_train, loss_test = train(mlp, FLAGS)\n",
    "fig_accu = plt.subplot(2, 1, 1)\n",
    "\n",
    "plt.ylim(0, 1.1)\n",
    "fig_loss = plt.subplot(2, 1, 2)\n",
    "fig_accu.plot(x_axis, accu_train, c='red', label='training accuracy')\n",
    "fig_accu.plot(x_axis, accu_test, c='blue', label='test accuracy')\n",
    "fig_accu.legend()\n",
    "fig_loss.plot(x_axis, loss_train, c='green', label='train loss')\n",
    "fig_loss.plot(x_axis, loss_test, c='yellow', label='test loss')\n",
    "fig_loss.legend()\n",
    "plt.show()"
   ]
  },
  {
   "cell_type": "markdown",
   "id": "98fb9f4c",
   "metadata": {},
   "source": [
    "Compared with the MLP using batch gradient descent with the same dataset, we find that:\n",
    "+ the accuracy and loss reach the same value after enough epoch\n",
    "    + accuracy: 1\n",
    "    + loss: 0\n",
    "+ MLP prediction coverage quickly when using stochastic gradient descent than using batch gradient descent"
   ]
  }
 ],
 "metadata": {
  "kernelspec": {
   "display_name": "Python 3 (ipykernel)",
   "language": "python",
   "name": "python3"
  },
  "language_info": {
   "codemirror_mode": {
    "name": "ipython",
    "version": 3
   },
   "file_extension": ".py",
   "mimetype": "text/x-python",
   "name": "python",
   "nbconvert_exporter": "python",
   "pygments_lexer": "ipython3",
   "version": "3.7.11"
  }
 },
 "nbformat": 4,
 "nbformat_minor": 5
}
